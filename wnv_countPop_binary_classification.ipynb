{
 "cells": [
  {
   "cell_type": "code",
   "execution_count": null,
   "id": "c0ff3f86",
   "metadata": {},
   "outputs": [],
   "source": [
    "import pandas as pd\n",
    "import numpy as np"
   ]
  },
  {
   "cell_type": "code",
   "execution_count": null,
   "id": "9cb216db",
   "metadata": {},
   "outputs": [],
   "source": [
    "import matplotlib.pyplot as plt\n",
    "import seaborn as sns\n",
    "import sklearn\n",
    "from sklearn.ensemble import RandomForestRegressor\n",
    "from sklearn.metrics import mean_squared_error, r2_score\n",
    "from sklearn.feature_selection import SelectKBest, f_regression, RFE"
   ]
  },
  {
   "cell_type": "code",
   "execution_count": null,
   "id": "97cd7626",
   "metadata": {},
   "outputs": [],
   "source": [
    "cases14_23 = pd.read_csv(\"../cases_data/casesWNV_countyTX_14_23.csv\")\n",
    "cases14_23.head()"
   ]
  },
  {
   "cell_type": "code",
   "execution_count": null,
   "id": "a1710eba",
   "metadata": {},
   "outputs": [],
   "source": [
    "cases_Class = cases14_23.copy()\n",
    "for i in cases_Class.drop(columns='County').columns:\n",
    "    cases_Class.loc[cases_Class[str(i)] > 0, str(i)] = 1"
   ]
  },
  {
   "cell_type": "code",
   "execution_count": null,
   "id": "161d683c",
   "metadata": {},
   "outputs": [],
   "source": [
    "colNames = {'NAME': 'County', 'estimate': 'Population', 'variable': 'Sex,Age'}\n",
    "oldAgeCol = ['03', '04', '05', '06', '07', '08', '09', '10', '11', '12', '13', '14', '15', '16', '17', '18', '19', '20', '21', '22', '23', '24', '25',\n",
    "             '27', '28', '29', '30', '31', '32', '33', '34', '35', '36', '37', '38', '39', '40', '41', '42', '43', '44', '45', '46', '47', '48', '49']"
   ]
  },
  {
   "cell_type": "code",
   "execution_count": null,
   "id": "1f2ac77f",
   "metadata": {},
   "outputs": [],
   "source": [
    "pop14 = pd.read_csv(\"../demographic_data/pop_bySexAge_acsGroups_countyTX14.csv\").drop(columns=['Unnamed: 0', 'GEOID', 'moe']).rename(columns=colNames)\n",
    "pop15 = pd.read_csv(\"../demographic_data/pop_bySexAge_acsGroups_countyTX15.csv\").drop(columns=['Unnamed: 0', 'GEOID', 'moe']).rename(columns=colNames)\n",
    "pop16 = pd.read_csv(\"../demographic_data/pop_bySexAge_acsGroups_countyTX16.csv\").drop(columns=['Unnamed: 0', 'GEOID', 'moe']).rename(columns=colNames)\n",
    "pop17 = pd.read_csv(\"../demographic_data/pop_bySexAge_acsGroups_countyTX17.csv\").drop(columns=['Unnamed: 0', 'GEOID', 'moe']).rename(columns=colNames)\n",
    "pop18 = pd.read_csv(\"../demographic_data/pop_bySexAge_acsGroups_countyTX18.csv\").drop(columns=['Unnamed: 0', 'GEOID', 'moe']).rename(columns=colNames)\n",
    "pop19 = pd.read_csv(\"../demographic_data/pop_bySexAge_acsGroups_countyTX19.csv\").drop(columns=['Unnamed: 0', 'GEOID', 'moe']).rename(columns=colNames)\n",
    "pop20 = pd.read_csv(\"../demographic_data/pop_bySexAge_acsGroups_countyTX20.csv\").drop(columns=['Unnamed: 0', 'GEOID', 'moe']).rename(columns=colNames)\n",
    "pop21 = pd.read_csv(\"../demographic_data/pop_bySexAge_acsGroups_countyTX21.csv\").drop(columns=['Unnamed: 0', 'GEOID', 'moe']).rename(columns=colNames)\n",
    "pop22 = pd.read_csv(\"../demographic_data/pop_bySexAge_acsGroups_countyTX22.csv\").drop(columns=['Unnamed: 0', 'GEOID', 'moe']).rename(columns=colNames)\n",
    "pop23 = pd.read_csv(\"../demographic_data/pop_bySexAge_acsGroups_countyTX23.csv\").drop(columns=['Unnamed: 0', 'GEOID', 'moe']).rename(columns=colNames)"
   ]
  },
  {
   "cell_type": "code",
   "execution_count": null,
   "id": "6e799d37",
   "metadata": {},
   "outputs": [],
   "source": [
    "def createSexAgeDf(dfPop):\n",
    "    dfPop['Sex,Age'] = dfPop['Sex,Age'].str.replace('B01001_0', '').replace({\"02\": \"Total Male\", \"26\": \"Total Female\"})\n",
    "    dfPop['County'] = dfPop['County'].str.replace(' County, Texas', '')\n",
    "    sexAgeDf = dfPop.pivot(index='County', columns='Sex,Age', values='Population')\n",
    "    return sexAgeDf"
   ]
  },
  {
   "cell_type": "code",
   "execution_count": null,
   "id": "947ee178",
   "metadata": {},
   "outputs": [],
   "source": [
    "sexAge14 = createSexAgeDf(pop14)\n",
    "sexAge15 = createSexAgeDf(pop15)\n",
    "sexAge16 = createSexAgeDf(pop16)\n",
    "sexAge17 = createSexAgeDf(pop17)\n",
    "sexAge18 = createSexAgeDf(pop18)\n",
    "sexAge19 = createSexAgeDf(pop19)\n",
    "sexAge20 = createSexAgeDf(pop20)\n",
    "sexAge21 = createSexAgeDf(pop21)\n",
    "sexAge22 = createSexAgeDf(pop22)\n",
    "sexAge23 = createSexAgeDf(pop23)"
   ]
  },
  {
   "cell_type": "code",
   "execution_count": null,
   "id": "80963cb7",
   "metadata": {},
   "outputs": [],
   "source": [
    "sexAge14.head()"
   ]
  },
  {
   "cell_type": "code",
   "execution_count": null,
   "id": "739cb747",
   "metadata": {},
   "outputs": [],
   "source": [
    "def createPopGroups4(dfAge, year, caseDf):\n",
    "    dfNew = dfAge.copy()\n",
    "    dfNew['Male 0-19'] = dfNew['03'] + dfNew['04'] + dfNew['05'] + dfNew['06'] + dfNew['07'] \n",
    "    dfNew['Male 20-59'] = dfNew['08'] + dfNew['09'] + dfNew['10'] + dfNew['11'] + dfNew['12'] + dfNew['13'] + dfNew['14'] + dfNew['15'] + dfNew['16'] + dfNew['17']\n",
    "    dfNew['Male 60-79'] = dfNew['18'] + dfNew['19'] + dfNew['20'] + dfNew['21'] + dfNew['22'] + dfNew['23']\n",
    "    dfNew['Male 80+'] = dfNew['24'] + dfNew['25']\n",
    "    dfNew['Female 0-19'] = dfNew['27'] + dfNew['28'] + dfNew['29'] + dfNew['30'] + dfNew['31']\n",
    "    dfNew['Female 20-59'] =dfNew['32'] + dfNew['33'] + dfNew['34'] + dfNew['35'] + dfNew['36'] + dfNew['37'] + dfNew['38'] + dfNew['39'] + dfNew['40'] + dfNew['41']\n",
    "    dfNew['Female 60-79'] = dfNew['42'] + dfNew['43'] + dfNew['44'] + dfNew['45'] + dfNew['46'] + dfNew['47']\n",
    "    dfNew['Female 80+'] = dfNew['48'] + dfNew['49']\n",
    "    dfNew.drop(columns=oldAgeCol, inplace=True)\n",
    "    dfNew['Cases'] = caseDf[str(year)+' Cases'].values\n",
    "    return dfNew"
   ]
  },
  {
   "cell_type": "code",
   "execution_count": null,
   "id": "18fcfc8b",
   "metadata": {},
   "outputs": [],
   "source": [
    "sexAge14_class = createPopGroups4(sexAge14, 2014, cases_Class)\n",
    "sexAge15_class = createPopGroups4(sexAge15, 2015, cases_Class)\n",
    "sexAge16_class = createPopGroups4(sexAge16, 2016, cases_Class)\n",
    "sexAge17_class = createPopGroups4(sexAge17, 2017, cases_Class)\n",
    "sexAge18_class = createPopGroups4(sexAge18, 2018, cases_Class)\n",
    "sexAge19_class = createPopGroups4(sexAge19, 2019, cases_Class)\n",
    "sexAge20_class = createPopGroups4(sexAge20, 2020, cases_Class)\n",
    "sexAge21_class = createPopGroups4(sexAge21, 2021, cases_Class)\n",
    "sexAge22_class = createPopGroups4(sexAge22, 2022, cases_Class)\n",
    "sexAge23_class = createPopGroups4(sexAge23, 2023, cases_Class)"
   ]
  },
  {
   "cell_type": "code",
   "execution_count": null,
   "id": "ea633159",
   "metadata": {},
   "outputs": [],
   "source": [
    "sexAgepop14_21_class = pd.concat([sexAge14_class, sexAge15_class, sexAge16_class, sexAge17_class, sexAge18_class, sexAge19_class, sexAge20_class, sexAge21_class])\n",
    "sexAgepop14_21_class.head()"
   ]
  },
  {
   "cell_type": "code",
   "execution_count": null,
   "id": "71162b4b",
   "metadata": {},
   "outputs": [],
   "source": [
    "sexAgepop14_21_class.to_csv(\"../demogr14_21_trainSet_class.csv\")"
   ]
  },
  {
   "cell_type": "code",
   "execution_count": null,
   "id": "cad92716",
   "metadata": {},
   "outputs": [],
   "source": [
    "coor_matrix14_21_class = sexAgepop14_21_class.corr()\n",
    "print(coor_matrix14_21_class['Cases'].sort_values(ascending=False))"
   ]
  },
  {
   "cell_type": "code",
   "execution_count": null,
   "id": "b0427990",
   "metadata": {},
   "outputs": [],
   "source": [
    "sexAgepop22_23_class = pd.concat([sexAge22_class, sexAge23_class])\n",
    "sexAgepop22_23_class.to_csv(\"../demogr22_23_testSet_class.csv\")"
   ]
  }
 ],
 "metadata": {
  "language_info": {
   "name": "python"
  }
 },
 "nbformat": 4,
 "nbformat_minor": 5
}
